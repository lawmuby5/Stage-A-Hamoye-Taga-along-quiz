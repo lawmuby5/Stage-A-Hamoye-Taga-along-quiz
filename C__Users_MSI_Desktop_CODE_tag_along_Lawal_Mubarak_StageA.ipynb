{
 "cells": [
  {
   "cell_type": "code",
   "execution_count": 4,
   "id": "bef0d2bb",
   "metadata": {},
   "outputs": [],
   "source": [
    "import pandas as pd \n",
    "import numpy as np\n",
    "\n",
    "\n",
    "df_file = pd.read_csv(\"C:/Users/MSI/Desktop/CODE/FoodBalanceSheets_E_Africa_NOFLAG.csv\" ,encoding = \"8859\")"
   ]
  },
  {
   "cell_type": "code",
   "execution_count": 5,
   "id": "47862610",
   "metadata": {},
   "outputs": [],
   "source": [
    "# df_file.groupby('Element')[\"Y2014\",\"Y2015\",\"Y2016\",\"Y2017\",\"Y2018\"].sum()\n",
    "\n",
    "\n",
    "pac = df_file.groupby(\"Element\")[[\"Y2014\",\"Y2015\",\"Y2016\",\"Y2017\",\"Y2018\"]].sum() \n",
    "\n"
   ]
  },
  {
   "cell_type": "code",
   "execution_count": 45,
   "id": "5d3b4c72",
   "metadata": {},
   "outputs": [
    {
     "data": {
      "text/plain": [
       "Y2014    209460.54\n",
       "Y2017    269617.53\n",
       "Name: Animal fats, dtype: float64"
      ]
     },
     "execution_count": 45,
     "metadata": {},
     "output_type": "execute_result"
    }
   ],
   "source": [
    "# Question_11: What is the total sum of Aminal Fat produced in 2014 and 2017 respectively?\n",
    "\n",
    "a = df_file.groupby(\"Item\")[[\"Y2014\",\"Y2017\"]].sum() #209460.54 & 269617.53 respectively \n",
    "a.iloc[3]"
   ]
  },
  {
   "cell_type": "code",
   "execution_count": 18,
   "id": "afed1b90",
   "metadata": {},
   "outputs": [
    {
     "name": "stdout",
     "output_type": "stream",
     "text": [
      "Mean = 135.23596649549236\n",
      "Standard deviation = 1603.4039839423301\n"
     ]
    }
   ],
   "source": [
    "#  Question_12 What is the mean and standard deviation across the whole dataset for the year 2015 to 3 decimal places?\n",
    "\n",
    "a = str(df_file[\"Y2015\"].mean())\n",
    "print(\"Mean = \" +a )\n",
    "\n",
    "#Mean = 135.236\n",
    "\n",
    "b = str(df_file[\"Y2015\"].std()) #Standard deviation = 1603.404\n",
    "\n",
    "print(\"Standard deviation = \" +b )"
   ]
  },
  {
   "cell_type": "code",
   "execution_count": 21,
   "id": "58ed5d9c",
   "metadata": {},
   "outputs": [
    {
     "name": "stdout",
     "output_type": "stream",
     "text": [
      "Total number of missing data = 1535\n",
      "Percentage of missing data = 2.52%\n"
     ]
    }
   ],
   "source": [
    "# Question_13 What is the total number and percentage of missing data in 2016 to 2 decimal places?\n",
    "\n",
    "a = (df_file[\"Y2016\"].isna().sum()) #1535\n",
    "\n",
    "b = len(df_file['Y2016'])\n",
    "\n",
    "c = round ((a/b * 100) ,2)   #2.52\n",
    "\n",
    "print (\"Total number of missing data = {}\".format (a))\n",
    "print (\"Percentage of missing data = {}%\".format (c))\n",
    "\n"
   ]
  },
  {
   "cell_type": "code",
   "execution_count": 86,
   "id": "966c05fe",
   "metadata": {},
   "outputs": [
    {
     "data": {
      "text/html": [
       "<div>\n",
       "<style scoped>\n",
       "    .dataframe tbody tr th:only-of-type {\n",
       "        vertical-align: middle;\n",
       "    }\n",
       "\n",
       "    .dataframe tbody tr th {\n",
       "        vertical-align: top;\n",
       "    }\n",
       "\n",
       "    .dataframe thead th {\n",
       "        text-align: right;\n",
       "    }\n",
       "</style>\n",
       "<table border=\"1\" class=\"dataframe\">\n",
       "  <thead>\n",
       "    <tr style=\"text-align: right;\">\n",
       "      <th></th>\n",
       "      <th>Area Code</th>\n",
       "      <th>Item Code</th>\n",
       "      <th>Element Code</th>\n",
       "      <th>Y2014</th>\n",
       "      <th>Y2015</th>\n",
       "      <th>Y2016</th>\n",
       "      <th>Y2017</th>\n",
       "      <th>Y2018</th>\n",
       "    </tr>\n",
       "  </thead>\n",
       "  <tbody>\n",
       "    <tr>\n",
       "      <th>Area Code</th>\n",
       "      <td>1.000000</td>\n",
       "      <td>-0.005159</td>\n",
       "      <td>-0.000209</td>\n",
       "      <td>0.006164</td>\n",
       "      <td>0.005472</td>\n",
       "      <td>0.005247</td>\n",
       "      <td>0.005006</td>\n",
       "      <td>0.005665</td>\n",
       "    </tr>\n",
       "    <tr>\n",
       "      <th>Item Code</th>\n",
       "      <td>-0.005159</td>\n",
       "      <td>1.000000</td>\n",
       "      <td>-0.024683</td>\n",
       "      <td>0.021722</td>\n",
       "      <td>0.020857</td>\n",
       "      <td>0.020109</td>\n",
       "      <td>0.021494</td>\n",
       "      <td>0.021314</td>\n",
       "    </tr>\n",
       "    <tr>\n",
       "      <th>Element Code</th>\n",
       "      <td>-0.000209</td>\n",
       "      <td>-0.024683</td>\n",
       "      <td>1.000000</td>\n",
       "      <td>0.024457</td>\n",
       "      <td>0.023889</td>\n",
       "      <td>0.023444</td>\n",
       "      <td>0.024254</td>\n",
       "      <td>0.024279</td>\n",
       "    </tr>\n",
       "    <tr>\n",
       "      <th>Y2014</th>\n",
       "      <td>0.006164</td>\n",
       "      <td>0.021722</td>\n",
       "      <td>0.024457</td>\n",
       "      <td>1.000000</td>\n",
       "      <td>0.994647</td>\n",
       "      <td>0.996081</td>\n",
       "      <td>0.995230</td>\n",
       "      <td>0.994872</td>\n",
       "    </tr>\n",
       "    <tr>\n",
       "      <th>Y2015</th>\n",
       "      <td>0.005472</td>\n",
       "      <td>0.020857</td>\n",
       "      <td>0.023889</td>\n",
       "      <td>0.994647</td>\n",
       "      <td>1.000000</td>\n",
       "      <td>0.995739</td>\n",
       "      <td>0.988048</td>\n",
       "      <td>0.988208</td>\n",
       "    </tr>\n",
       "    <tr>\n",
       "      <th>Y2016</th>\n",
       "      <td>0.005247</td>\n",
       "      <td>0.020109</td>\n",
       "      <td>0.023444</td>\n",
       "      <td>0.996081</td>\n",
       "      <td>0.995739</td>\n",
       "      <td>1.000000</td>\n",
       "      <td>0.992785</td>\n",
       "      <td>0.992757</td>\n",
       "    </tr>\n",
       "    <tr>\n",
       "      <th>Y2017</th>\n",
       "      <td>0.005006</td>\n",
       "      <td>0.021494</td>\n",
       "      <td>0.024254</td>\n",
       "      <td>0.995230</td>\n",
       "      <td>0.988048</td>\n",
       "      <td>0.992785</td>\n",
       "      <td>1.000000</td>\n",
       "      <td>0.998103</td>\n",
       "    </tr>\n",
       "    <tr>\n",
       "      <th>Y2018</th>\n",
       "      <td>0.005665</td>\n",
       "      <td>0.021314</td>\n",
       "      <td>0.024279</td>\n",
       "      <td>0.994872</td>\n",
       "      <td>0.988208</td>\n",
       "      <td>0.992757</td>\n",
       "      <td>0.998103</td>\n",
       "      <td>1.000000</td>\n",
       "    </tr>\n",
       "  </tbody>\n",
       "</table>\n",
       "</div>"
      ],
      "text/plain": [
       "              Area Code  Item Code  Element Code     Y2014     Y2015  \\\n",
       "Area Code      1.000000  -0.005159     -0.000209  0.006164  0.005472   \n",
       "Item Code     -0.005159   1.000000     -0.024683  0.021722  0.020857   \n",
       "Element Code  -0.000209  -0.024683      1.000000  0.024457  0.023889   \n",
       "Y2014          0.006164   0.021722      0.024457  1.000000  0.994647   \n",
       "Y2015          0.005472   0.020857      0.023889  0.994647  1.000000   \n",
       "Y2016          0.005247   0.020109      0.023444  0.996081  0.995739   \n",
       "Y2017          0.005006   0.021494      0.024254  0.995230  0.988048   \n",
       "Y2018          0.005665   0.021314      0.024279  0.994872  0.988208   \n",
       "\n",
       "                 Y2016     Y2017     Y2018  \n",
       "Area Code     0.005247  0.005006  0.005665  \n",
       "Item Code     0.020109  0.021494  0.021314  \n",
       "Element Code  0.023444  0.024254  0.024279  \n",
       "Y2014         0.996081  0.995230  0.994872  \n",
       "Y2015         0.995739  0.988048  0.988208  \n",
       "Y2016         1.000000  0.992785  0.992757  \n",
       "Y2017         0.992785  1.000000  0.998103  \n",
       "Y2018         0.992757  0.998103  1.000000  "
      ]
     },
     "execution_count": 86,
     "metadata": {},
     "output_type": "execute_result"
    }
   ],
   "source": [
    "\n",
    "# Question_14: Which year had the highest correlation with 'Element Code'?\n",
    "\n",
    "corr_matrix = df_file.select_dtypes(exclude=[object])\n",
    "\n",
    "corr_matrix.corr() #Evaluating and looking at the output, the year with the highest correlation with 'Element Code' is 2014\n",
    "\n",
    "# Answer = Y2014"
   ]
  },
  {
   "cell_type": "code",
   "execution_count": 24,
   "id": "eaddfb55",
   "metadata": {},
   "outputs": [
    {
     "name": "stdout",
     "output_type": "stream",
     "text": [
      "Answer is index number 3 on the years listed  which is 2017\n"
     ]
    }
   ],
   "source": [
    "# Question_15: What year has the highest sum of Import Quantity?\n",
    "\n",
    "pm = df_file.groupby(\"Element\")[[\"Y2014\",\"Y2015\",\"Y2016\",\"Y2017\",\"Y2018\"]].sum() #2017\n",
    "\n",
    "x = pm.iloc[7].argmax()#index 3\n",
    "\n",
    "print (\"Answer is index number {} on the years listed  which is 2017\" .format (x))\n",
    "\n",
    "# answer is 2017"
   ]
  },
  {
   "cell_type": "code",
   "execution_count": 25,
   "id": "9dca5a9d",
   "metadata": {},
   "outputs": [
    {
     "name": "stdout",
     "output_type": "stream",
     "text": [
      "Total sum of production = 1931287.75\n"
     ]
    }
   ],
   "source": [
    "# Question_16: What is the total number of the sum of Production in 2014?\n",
    "\n",
    "# data.groupby(\"Element\")[\"Y2014\"].sum() #1931287.75\n",
    "\n",
    "p = df_file.groupby(\"Element\")[[\"Y2014\",\"Y2015\",\"Y2016\",\"Y2017\",\"Y2018\"]].sum()\n",
    "\n",
    "x = p.iloc[11]\n",
    "\n",
    "a = x.iloc[0]\n",
    "\n",
    "print (\"Total sum of production = {}\".format (a))"
   ]
  },
  {
   "cell_type": "code",
   "execution_count": 30,
   "id": "5792246e",
   "metadata": {},
   "outputs": [
    {
     "name": "stdout",
     "output_type": "stream",
     "text": [
      "Element\n",
      "Domestic supply quantity                  2161192.10\n",
      "Export Quantity                            181594.80\n",
      "Fat supply quantity (g/capita/day)          10258.69\n",
      "Feed                                       233489.68\n",
      "Food                                      1303841.28\n",
      "Food supply (kcal/capita/day)              455261.00\n",
      "Food supply quantity (kg/capita/yr)         49056.85\n",
      "Import Quantity                            287997.09\n",
      "Losses                                     163902.00\n",
      "Other uses (non-food)                       91300.97\n",
      "Processing                                 308429.00\n",
      "Production                                2075072.89\n",
      "Protein supply quantity (g/capita/day)      11833.56\n",
      "Residuals                                   34864.00\n",
      "Seed                                        25263.14\n",
      "Stock Variation                             20577.91\n",
      "Total Population - Both sexes             1140605.00\n",
      "Tourist consumption                            90.00\n",
      "Name: Y2018, dtype: float64\n",
      "Highest sum in 2018 = 2161192.1 which is Domestic supply quantity\n"
     ]
    }
   ],
   "source": [
    "# Question_17: Which of this elements had the highest sum in 2018?\n",
    "\n",
    "j = df_file.groupby(\"Element\")[\"Y2018\"].sum() #Domestic supply quantity\n",
    "print (j)\n",
    "# j.argmax()\n",
    "a =   (j[0])\n",
    "print (\"Highest sum in 2018 = {} which is Domestic supply quantity\" .format (a))"
   ]
  },
  {
   "cell_type": "code",
   "execution_count": 35,
   "id": "b812d9a2",
   "metadata": {},
   "outputs": [
    {
     "name": "stdout",
     "output_type": "stream",
     "text": [
      "The third lowest sum in 2018 = 11833.56 is Protein supply quantity (g/capita/day)\n"
     ]
    }
   ],
   "source": [
    "# Question_18: Which of this elements had the 3rd lowest sum in 2018?\n",
    "\n",
    "som = df_file.groupby(\"Element\")[\"Y2018\"].sum() # Protein supply quantity (g/capita/day)   11833.56\n",
    "a=som[12]\n",
    "print (\"The third lowest sum in 2018 = {} is Protein supply quantity (g/capita/day)\" .format (a))"
   ]
  },
  {
   "cell_type": "code",
   "execution_count": 40,
   "id": "9e930d38",
   "metadata": {},
   "outputs": [
    {
     "data": {
      "text/plain": [
       "Area     Element        \n",
       "Algeria  Import Quantity    36238.29\n",
       "Name: Y2018, dtype: float64"
      ]
     },
     "execution_count": 40,
     "metadata": {},
     "output_type": "execute_result"
    }
   ],
   "source": [
    "# Question_19: What is the total Import Quantity in Algeria in 2018?\n",
    "\n",
    "b = df_file.groupby([\"Area\",\"Element\"])[\"Y2018\"].sum()\n",
    "\n",
    "b[7:8] #36238.29\n",
    "\n"
   ]
  },
  {
   "cell_type": "code",
   "execution_count": 43,
   "id": "8aaaabf5",
   "metadata": {},
   "outputs": [
    {
     "name": "stdout",
     "output_type": "stream",
     "text": [
      "The total number of unique countries in the dataset is = 49)\n"
     ]
    }
   ],
   "source": [
    "# Question_20: What is the total number of unique countries in the dataset?\n",
    "\n",
    "a = df_file[\"Area\"].nunique() #49\n",
    "print (\"The total number of unique countries in the dataset is = {})\" .format (a))"
   ]
  }
 ],
 "metadata": {
  "kernelspec": {
   "display_name": "Python 3 (ipykernel)",
   "language": "python",
   "name": "python3"
  },
  "language_info": {
   "codemirror_mode": {
    "name": "ipython",
    "version": 3
   },
   "file_extension": ".py",
   "mimetype": "text/x-python",
   "name": "python",
   "nbconvert_exporter": "python",
   "pygments_lexer": "ipython3",
   "version": "3.9.12"
  }
 },
 "nbformat": 4,
 "nbformat_minor": 5
}
